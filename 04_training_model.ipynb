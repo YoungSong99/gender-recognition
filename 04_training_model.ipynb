{
 "cells": [
  {
   "cell_type": "code",
   "execution_count": 1,
   "id": "initial_id",
   "metadata": {
    "collapsed": true,
    "ExecuteTime": {
     "end_time": "2025-03-05T03:31:11.510200Z",
     "start_time": "2025-03-05T03:31:09.645665Z"
    }
   },
   "outputs": [],
   "source": [
    "import numpy as np\n",
    "import pandas as pd\n",
    "\n",
    "from sklearn.model_selection import train_test_split\n",
    "from sklearn.svm import SVC\n",
    "from sklearn.model_selection import GridSearchCV\n",
    "from sklearn import metrics"
   ]
  },
  {
   "cell_type": "code",
   "outputs": [
    {
     "data": {
      "text/plain": "['arr_0', 'arr_1']"
     },
     "execution_count": 3,
     "metadata": {},
     "output_type": "execute_result"
    }
   ],
   "source": [
    "data = np.load('data/data_pca_50_target.npz')\n",
    "data.files"
   ],
   "metadata": {
    "collapsed": false,
    "ExecuteTime": {
     "end_time": "2025-03-05T03:31:58.734525Z",
     "start_time": "2025-03-05T03:31:58.729672Z"
    }
   },
   "id": "60a36a7b429bccd2",
   "execution_count": 3
  },
  {
   "cell_type": "code",
   "outputs": [],
   "source": [
    "data.allow_pickle = True"
   ],
   "metadata": {
    "collapsed": false,
    "ExecuteTime": {
     "end_time": "2025-03-05T03:32:37.370721Z",
     "start_time": "2025-03-05T03:32:37.368135Z"
    }
   },
   "id": "fe61022e898ae986",
   "execution_count": 4
  },
  {
   "cell_type": "code",
   "outputs": [],
   "source": [
    "X = data['arr_0'] # pca data with 50 components\n",
    "y = data['arr_1'] # target variable"
   ],
   "metadata": {
    "collapsed": false,
    "ExecuteTime": {
     "end_time": "2025-03-05T03:33:34.624883Z",
     "start_time": "2025-03-05T03:33:34.620595Z"
    }
   },
   "id": "f35ce0d012ae0536",
   "execution_count": 7
  },
  {
   "cell_type": "code",
   "outputs": [
    {
     "data": {
      "text/plain": "array([[ 1.69404373, -1.1224871 , -0.96057256, ...,  0.28586684,\n         0.3710693 , -1.74289245],\n       [-0.75328086,  0.47206748, -0.16733758, ..., -0.43480325,\n        -0.61056158, -0.48588501],\n       [ 1.64893197, -0.35038188, -0.60638437, ..., -0.27134089,\n        -0.3902875 , -0.65252902],\n       ...,\n       [-0.1085147 ,  1.69383411, -1.09101215, ...,  0.54952253,\n         0.2414279 , -1.16102374],\n       [ 1.05235122,  1.12616373,  1.93402255, ..., -0.02690595,\n        -0.09858388,  0.63382462],\n       [-0.01341455,  0.63578105,  0.91438289, ...,  0.10418222,\n        -1.99422122, -0.87923439]], shape=(5608, 50))"
     },
     "execution_count": 6,
     "metadata": {},
     "output_type": "execute_result"
    }
   ],
   "source": [
    "X"
   ],
   "metadata": {
    "collapsed": false,
    "ExecuteTime": {
     "end_time": "2025-03-05T03:33:21.729004Z",
     "start_time": "2025-03-05T03:33:21.725488Z"
    }
   },
   "id": "6501db7c84294db2",
   "execution_count": 6
  },
  {
   "cell_type": "code",
   "outputs": [
    {
     "data": {
      "text/plain": "array(['female', 'female', 'female', ..., 'male', 'male', 'male'],\n      shape=(5608,), dtype=object)"
     },
     "execution_count": 8,
     "metadata": {},
     "output_type": "execute_result"
    }
   ],
   "source": [
    "y"
   ],
   "metadata": {
    "collapsed": false,
    "ExecuteTime": {
     "end_time": "2025-03-05T03:33:37.775288Z",
     "start_time": "2025-03-05T03:33:37.772768Z"
    }
   },
   "id": "6c2e834fe8e2504",
   "execution_count": 8
  },
  {
   "cell_type": "markdown",
   "source": [
    "## Split the data into train and test"
   ],
   "metadata": {
    "collapsed": false
   },
   "id": "b09f580420508758"
  },
  {
   "cell_type": "code",
   "outputs": [
    {
     "name": "stdout",
     "output_type": "stream",
     "text": [
      "(4486, 50) (1122, 50) (4486,) (1122,)\n"
     ]
    }
   ],
   "source": [
    "x_train, x_test, y_train, y_test = train_test_split(X, y, test_size=0.2, stratify=y)\n",
    "\n",
    "print(x_train.shape, x_test.shape, y_train.shape, y_test.shape)"
   ],
   "metadata": {
    "collapsed": false,
    "ExecuteTime": {
     "end_time": "2025-03-05T03:34:59.872699Z",
     "start_time": "2025-03-05T03:34:59.864196Z"
    }
   },
   "id": "2ffd0967f94e633e",
   "execution_count": 9
  },
  {
   "cell_type": "markdown",
   "source": [
    "## Train ML model"
   ],
   "metadata": {
    "collapsed": false
   },
   "id": "170dcf7fe25a145"
  },
  {
   "cell_type": "code",
   "outputs": [],
   "source": [
    "model_svc = SVC(probability=True)\n",
    "\n",
    "param_grid = {\n",
    "    'C': [0.5,1, 20,30,50],\n",
    "    'kernel': ['rbf', 'poly'],\n",
    "    'gamma': [0.1, 0.05, 0.01, 0.001, 0.002, 0.005],\n",
    "    'coef0': [0, 1]\n",
    "}"
   ],
   "metadata": {
    "collapsed": false,
    "ExecuteTime": {
     "end_time": "2025-03-05T04:12:52.758511Z",
     "start_time": "2025-03-05T04:12:52.755465Z"
    }
   },
   "id": "44e3da9ebb3c4a8f",
   "execution_count": 11
  },
  {
   "cell_type": "code",
   "outputs": [],
   "source": [
    "model_grid = GridSearchCV(model_svc, \n",
    "                                                param_grid=param_grid,\n",
    "                                                scoring='accuracy', cv=3, verbose=2)"
   ],
   "metadata": {
    "collapsed": false,
    "ExecuteTime": {
     "end_time": "2025-03-05T04:14:17.749521Z",
     "start_time": "2025-03-05T04:14:17.746615Z"
    }
   },
   "id": "35e8d1bde10dfb3a",
   "execution_count": 12
  },
  {
   "cell_type": "code",
   "outputs": [
    {
     "name": "stdout",
     "output_type": "stream",
     "text": [
      "Fitting 3 folds for each of 120 candidates, totalling 360 fits\n",
      "[CV] END ..............C=0.5, coef0=0, gamma=0.1, kernel=rbf; total time=   2.2s\n",
      "[CV] END ..............C=0.5, coef0=0, gamma=0.1, kernel=rbf; total time=   2.2s\n",
      "[CV] END ..............C=0.5, coef0=0, gamma=0.1, kernel=rbf; total time=   2.2s\n",
      "[CV] END .............C=0.5, coef0=0, gamma=0.1, kernel=poly; total time=   1.5s\n",
      "[CV] END .............C=0.5, coef0=0, gamma=0.1, kernel=poly; total time=   1.5s\n",
      "[CV] END .............C=0.5, coef0=0, gamma=0.1, kernel=poly; total time=   1.5s\n",
      "[CV] END .............C=0.5, coef0=0, gamma=0.05, kernel=rbf; total time=   2.0s\n",
      "[CV] END .............C=0.5, coef0=0, gamma=0.05, kernel=rbf; total time=   1.9s\n",
      "[CV] END .............C=0.5, coef0=0, gamma=0.05, kernel=rbf; total time=   2.0s\n",
      "[CV] END ............C=0.5, coef0=0, gamma=0.05, kernel=poly; total time=   1.4s\n",
      "[CV] END ............C=0.5, coef0=0, gamma=0.05, kernel=poly; total time=   1.5s\n",
      "[CV] END ............C=0.5, coef0=0, gamma=0.05, kernel=poly; total time=   1.4s\n",
      "[CV] END .............C=0.5, coef0=0, gamma=0.01, kernel=rbf; total time=   1.6s\n",
      "[CV] END .............C=0.5, coef0=0, gamma=0.01, kernel=rbf; total time=   1.6s\n",
      "[CV] END .............C=0.5, coef0=0, gamma=0.01, kernel=rbf; total time=   1.6s\n",
      "[CV] END ............C=0.5, coef0=0, gamma=0.01, kernel=poly; total time=   1.3s\n",
      "[CV] END ............C=0.5, coef0=0, gamma=0.01, kernel=poly; total time=   1.3s\n",
      "[CV] END ............C=0.5, coef0=0, gamma=0.01, kernel=poly; total time=   1.3s\n",
      "[CV] END ............C=0.5, coef0=0, gamma=0.001, kernel=rbf; total time=   1.9s\n",
      "[CV] END ............C=0.5, coef0=0, gamma=0.001, kernel=rbf; total time=   1.8s\n",
      "[CV] END ............C=0.5, coef0=0, gamma=0.001, kernel=rbf; total time=   1.9s\n",
      "[CV] END ...........C=0.5, coef0=0, gamma=0.001, kernel=poly; total time=   1.2s\n",
      "[CV] END ...........C=0.5, coef0=0, gamma=0.001, kernel=poly; total time=   1.2s\n",
      "[CV] END ...........C=0.5, coef0=0, gamma=0.001, kernel=poly; total time=   1.2s\n",
      "[CV] END ............C=0.5, coef0=0, gamma=0.002, kernel=rbf; total time=   1.7s\n",
      "[CV] END ............C=0.5, coef0=0, gamma=0.002, kernel=rbf; total time=   1.7s\n",
      "[CV] END ............C=0.5, coef0=0, gamma=0.002, kernel=rbf; total time=   1.7s\n",
      "[CV] END ...........C=0.5, coef0=0, gamma=0.002, kernel=poly; total time=   1.3s\n",
      "[CV] END ...........C=0.5, coef0=0, gamma=0.002, kernel=poly; total time=   1.3s\n",
      "[CV] END ...........C=0.5, coef0=0, gamma=0.002, kernel=poly; total time=   1.3s\n",
      "[CV] END ............C=0.5, coef0=0, gamma=0.005, kernel=rbf; total time=   1.5s\n",
      "[CV] END ............C=0.5, coef0=0, gamma=0.005, kernel=rbf; total time=   1.5s\n",
      "[CV] END ............C=0.5, coef0=0, gamma=0.005, kernel=rbf; total time=   1.6s\n",
      "[CV] END ...........C=0.5, coef0=0, gamma=0.005, kernel=poly; total time=   1.3s\n",
      "[CV] END ...........C=0.5, coef0=0, gamma=0.005, kernel=poly; total time=   1.3s\n",
      "[CV] END ...........C=0.5, coef0=0, gamma=0.005, kernel=poly; total time=   1.3s\n",
      "[CV] END ..............C=0.5, coef0=1, gamma=0.1, kernel=rbf; total time=   2.2s\n",
      "[CV] END ..............C=0.5, coef0=1, gamma=0.1, kernel=rbf; total time=   2.2s\n",
      "[CV] END ..............C=0.5, coef0=1, gamma=0.1, kernel=rbf; total time=   2.2s\n",
      "[CV] END .............C=0.5, coef0=1, gamma=0.1, kernel=poly; total time=   1.2s\n",
      "[CV] END .............C=0.5, coef0=1, gamma=0.1, kernel=poly; total time=   1.2s\n",
      "[CV] END .............C=0.5, coef0=1, gamma=0.1, kernel=poly; total time=   1.2s\n",
      "[CV] END .............C=0.5, coef0=1, gamma=0.05, kernel=rbf; total time=   1.9s\n",
      "[CV] END .............C=0.5, coef0=1, gamma=0.05, kernel=rbf; total time=   1.9s\n",
      "[CV] END .............C=0.5, coef0=1, gamma=0.05, kernel=rbf; total time=   1.9s\n",
      "[CV] END ............C=0.5, coef0=1, gamma=0.05, kernel=poly; total time=   1.2s\n",
      "[CV] END ............C=0.5, coef0=1, gamma=0.05, kernel=poly; total time=   1.1s\n",
      "[CV] END ............C=0.5, coef0=1, gamma=0.05, kernel=poly; total time=   1.2s\n",
      "[CV] END .............C=0.5, coef0=1, gamma=0.01, kernel=rbf; total time=   1.5s\n",
      "[CV] END .............C=0.5, coef0=1, gamma=0.01, kernel=rbf; total time=   1.4s\n",
      "[CV] END .............C=0.5, coef0=1, gamma=0.01, kernel=rbf; total time=   1.5s\n",
      "[CV] END ............C=0.5, coef0=1, gamma=0.01, kernel=poly; total time=   0.9s\n",
      "[CV] END ............C=0.5, coef0=1, gamma=0.01, kernel=poly; total time=   0.8s\n",
      "[CV] END ............C=0.5, coef0=1, gamma=0.01, kernel=poly; total time=   0.9s\n",
      "[CV] END ............C=0.5, coef0=1, gamma=0.001, kernel=rbf; total time=   1.8s\n",
      "[CV] END ............C=0.5, coef0=1, gamma=0.001, kernel=rbf; total time=   1.8s\n",
      "[CV] END ............C=0.5, coef0=1, gamma=0.001, kernel=rbf; total time=   1.8s\n",
      "[CV] END ...........C=0.5, coef0=1, gamma=0.001, kernel=poly; total time=   1.0s\n",
      "[CV] END ...........C=0.5, coef0=1, gamma=0.001, kernel=poly; total time=   1.0s\n",
      "[CV] END ...........C=0.5, coef0=1, gamma=0.001, kernel=poly; total time=   1.0s\n",
      "[CV] END ............C=0.5, coef0=1, gamma=0.002, kernel=rbf; total time=   1.6s\n",
      "[CV] END ............C=0.5, coef0=1, gamma=0.002, kernel=rbf; total time=   1.6s\n",
      "[CV] END ............C=0.5, coef0=1, gamma=0.002, kernel=rbf; total time=   1.7s\n",
      "[CV] END ...........C=0.5, coef0=1, gamma=0.002, kernel=poly; total time=   0.9s\n",
      "[CV] END ...........C=0.5, coef0=1, gamma=0.002, kernel=poly; total time=   0.9s\n",
      "[CV] END ...........C=0.5, coef0=1, gamma=0.002, kernel=poly; total time=   0.9s\n",
      "[CV] END ............C=0.5, coef0=1, gamma=0.005, kernel=rbf; total time=   1.5s\n",
      "[CV] END ............C=0.5, coef0=1, gamma=0.005, kernel=rbf; total time=   1.5s\n",
      "[CV] END ............C=0.5, coef0=1, gamma=0.005, kernel=rbf; total time=   1.5s\n",
      "[CV] END ...........C=0.5, coef0=1, gamma=0.005, kernel=poly; total time=   0.9s\n",
      "[CV] END ...........C=0.5, coef0=1, gamma=0.005, kernel=poly; total time=   0.9s\n",
      "[CV] END ...........C=0.5, coef0=1, gamma=0.005, kernel=poly; total time=   0.9s\n",
      "[CV] END ................C=1, coef0=0, gamma=0.1, kernel=rbf; total time=   2.3s\n",
      "[CV] END ................C=1, coef0=0, gamma=0.1, kernel=rbf; total time=   2.2s\n",
      "[CV] END ................C=1, coef0=0, gamma=0.1, kernel=rbf; total time=   2.3s\n",
      "[CV] END ...............C=1, coef0=0, gamma=0.1, kernel=poly; total time=   1.5s\n",
      "[CV] END ...............C=1, coef0=0, gamma=0.1, kernel=poly; total time=   1.5s\n",
      "[CV] END ...............C=1, coef0=0, gamma=0.1, kernel=poly; total time=   1.6s\n",
      "[CV] END ...............C=1, coef0=0, gamma=0.05, kernel=rbf; total time=   2.1s\n",
      "[CV] END ...............C=1, coef0=0, gamma=0.05, kernel=rbf; total time=   2.0s\n",
      "[CV] END ...............C=1, coef0=0, gamma=0.05, kernel=rbf; total time=   2.1s\n",
      "[CV] END ..............C=1, coef0=0, gamma=0.05, kernel=poly; total time=   1.4s\n",
      "[CV] END ..............C=1, coef0=0, gamma=0.05, kernel=poly; total time=   1.5s\n",
      "[CV] END ..............C=1, coef0=0, gamma=0.05, kernel=poly; total time=   1.4s\n",
      "[CV] END ...............C=1, coef0=0, gamma=0.01, kernel=rbf; total time=   1.4s\n",
      "[CV] END ...............C=1, coef0=0, gamma=0.01, kernel=rbf; total time=   1.4s\n",
      "[CV] END ...............C=1, coef0=0, gamma=0.01, kernel=rbf; total time=   1.4s\n",
      "[CV] END ..............C=1, coef0=0, gamma=0.01, kernel=poly; total time=   1.3s\n",
      "[CV] END ..............C=1, coef0=0, gamma=0.01, kernel=poly; total time=   1.3s\n",
      "[CV] END ..............C=1, coef0=0, gamma=0.01, kernel=poly; total time=   1.3s\n",
      "[CV] END ..............C=1, coef0=0, gamma=0.001, kernel=rbf; total time=   1.6s\n",
      "[CV] END ..............C=1, coef0=0, gamma=0.001, kernel=rbf; total time=   1.6s\n",
      "[CV] END ..............C=1, coef0=0, gamma=0.001, kernel=rbf; total time=   1.7s\n",
      "[CV] END .............C=1, coef0=0, gamma=0.001, kernel=poly; total time=   1.3s\n",
      "[CV] END .............C=1, coef0=0, gamma=0.001, kernel=poly; total time=   1.3s\n",
      "[CV] END .............C=1, coef0=0, gamma=0.001, kernel=poly; total time=   1.2s\n",
      "[CV] END ..............C=1, coef0=0, gamma=0.002, kernel=rbf; total time=   1.5s\n",
      "[CV] END ..............C=1, coef0=0, gamma=0.002, kernel=rbf; total time=   1.5s\n",
      "[CV] END ..............C=1, coef0=0, gamma=0.002, kernel=rbf; total time=   1.5s\n",
      "[CV] END .............C=1, coef0=0, gamma=0.002, kernel=poly; total time=   1.3s\n",
      "[CV] END .............C=1, coef0=0, gamma=0.002, kernel=poly; total time=   1.3s\n",
      "[CV] END .............C=1, coef0=0, gamma=0.002, kernel=poly; total time=   1.3s\n",
      "[CV] END ..............C=1, coef0=0, gamma=0.005, kernel=rbf; total time=   1.5s\n",
      "[CV] END ..............C=1, coef0=0, gamma=0.005, kernel=rbf; total time=   1.5s\n",
      "[CV] END ..............C=1, coef0=0, gamma=0.005, kernel=rbf; total time=   1.5s\n",
      "[CV] END .............C=1, coef0=0, gamma=0.005, kernel=poly; total time=   1.3s\n",
      "[CV] END .............C=1, coef0=0, gamma=0.005, kernel=poly; total time=   1.3s\n",
      "[CV] END .............C=1, coef0=0, gamma=0.005, kernel=poly; total time=   1.3s\n",
      "[CV] END ................C=1, coef0=1, gamma=0.1, kernel=rbf; total time=   2.6s\n",
      "[CV] END ................C=1, coef0=1, gamma=0.1, kernel=rbf; total time=   3.3s\n",
      "[CV] END ................C=1, coef0=1, gamma=0.1, kernel=rbf; total time=   2.3s\n",
      "[CV] END ...............C=1, coef0=1, gamma=0.1, kernel=poly; total time=   1.2s\n",
      "[CV] END ...............C=1, coef0=1, gamma=0.1, kernel=poly; total time=   1.2s\n",
      "[CV] END ...............C=1, coef0=1, gamma=0.1, kernel=poly; total time=   1.4s\n",
      "[CV] END ...............C=1, coef0=1, gamma=0.05, kernel=rbf; total time=   2.3s\n",
      "[CV] END ...............C=1, coef0=1, gamma=0.05, kernel=rbf; total time=   2.0s\n",
      "[CV] END ...............C=1, coef0=1, gamma=0.05, kernel=rbf; total time=   2.1s\n",
      "[CV] END ..............C=1, coef0=1, gamma=0.05, kernel=poly; total time=   1.2s\n",
      "[CV] END ..............C=1, coef0=1, gamma=0.05, kernel=poly; total time=   1.2s\n",
      "[CV] END ..............C=1, coef0=1, gamma=0.05, kernel=poly; total time=   1.2s\n",
      "[CV] END ...............C=1, coef0=1, gamma=0.01, kernel=rbf; total time=   1.5s\n",
      "[CV] END ...............C=1, coef0=1, gamma=0.01, kernel=rbf; total time=   1.4s\n",
      "[CV] END ...............C=1, coef0=1, gamma=0.01, kernel=rbf; total time=   1.5s\n",
      "[CV] END ..............C=1, coef0=1, gamma=0.01, kernel=poly; total time=   0.9s\n",
      "[CV] END ..............C=1, coef0=1, gamma=0.01, kernel=poly; total time=   0.8s\n",
      "[CV] END ..............C=1, coef0=1, gamma=0.01, kernel=poly; total time=   0.9s\n",
      "[CV] END ..............C=1, coef0=1, gamma=0.001, kernel=rbf; total time=   1.7s\n",
      "[CV] END ..............C=1, coef0=1, gamma=0.001, kernel=rbf; total time=   1.6s\n",
      "[CV] END ..............C=1, coef0=1, gamma=0.001, kernel=rbf; total time=   1.7s\n",
      "[CV] END .............C=1, coef0=1, gamma=0.001, kernel=poly; total time=   0.9s\n",
      "[CV] END .............C=1, coef0=1, gamma=0.001, kernel=poly; total time=   0.9s\n",
      "[CV] END .............C=1, coef0=1, gamma=0.001, kernel=poly; total time=   1.0s\n",
      "[CV] END ..............C=1, coef0=1, gamma=0.002, kernel=rbf; total time=   1.5s\n",
      "[CV] END ..............C=1, coef0=1, gamma=0.002, kernel=rbf; total time=   1.5s\n",
      "[CV] END ..............C=1, coef0=1, gamma=0.002, kernel=rbf; total time=   1.5s\n",
      "[CV] END .............C=1, coef0=1, gamma=0.002, kernel=poly; total time=   0.9s\n",
      "[CV] END .............C=1, coef0=1, gamma=0.002, kernel=poly; total time=   0.8s\n",
      "[CV] END .............C=1, coef0=1, gamma=0.002, kernel=poly; total time=   0.9s\n",
      "[CV] END ..............C=1, coef0=1, gamma=0.005, kernel=rbf; total time=   1.4s\n",
      "[CV] END ..............C=1, coef0=1, gamma=0.005, kernel=rbf; total time=   1.4s\n",
      "[CV] END ..............C=1, coef0=1, gamma=0.005, kernel=rbf; total time=   1.4s\n",
      "[CV] END .............C=1, coef0=1, gamma=0.005, kernel=poly; total time=   0.8s\n",
      "[CV] END .............C=1, coef0=1, gamma=0.005, kernel=poly; total time=   0.8s\n",
      "[CV] END .............C=1, coef0=1, gamma=0.005, kernel=poly; total time=   0.9s\n",
      "[CV] END ...............C=20, coef0=0, gamma=0.1, kernel=rbf; total time=   2.3s\n",
      "[CV] END ...............C=20, coef0=0, gamma=0.1, kernel=rbf; total time=   2.3s\n",
      "[CV] END ...............C=20, coef0=0, gamma=0.1, kernel=rbf; total time=   2.3s\n",
      "[CV] END ..............C=20, coef0=0, gamma=0.1, kernel=poly; total time=   1.5s\n",
      "[CV] END ..............C=20, coef0=0, gamma=0.1, kernel=poly; total time=   1.5s\n",
      "[CV] END ..............C=20, coef0=0, gamma=0.1, kernel=poly; total time=   1.5s\n",
      "[CV] END ..............C=20, coef0=0, gamma=0.05, kernel=rbf; total time=   2.2s\n",
      "[CV] END ..............C=20, coef0=0, gamma=0.05, kernel=rbf; total time=   2.2s\n",
      "[CV] END ..............C=20, coef0=0, gamma=0.05, kernel=rbf; total time=   2.2s\n",
      "[CV] END .............C=20, coef0=0, gamma=0.05, kernel=poly; total time=   1.4s\n",
      "[CV] END .............C=20, coef0=0, gamma=0.05, kernel=poly; total time=   1.6s\n",
      "[CV] END .............C=20, coef0=0, gamma=0.05, kernel=poly; total time=   1.5s\n",
      "[CV] END ..............C=20, coef0=0, gamma=0.01, kernel=rbf; total time=   1.6s\n",
      "[CV] END ..............C=20, coef0=0, gamma=0.01, kernel=rbf; total time=   1.5s\n",
      "[CV] END ..............C=20, coef0=0, gamma=0.01, kernel=rbf; total time=   1.6s\n",
      "[CV] END .............C=20, coef0=0, gamma=0.01, kernel=poly; total time=   1.3s\n",
      "[CV] END .............C=20, coef0=0, gamma=0.01, kernel=poly; total time=   1.3s\n",
      "[CV] END .............C=20, coef0=0, gamma=0.01, kernel=poly; total time=   1.3s\n",
      "[CV] END .............C=20, coef0=0, gamma=0.001, kernel=rbf; total time=   1.4s\n",
      "[CV] END .............C=20, coef0=0, gamma=0.001, kernel=rbf; total time=   1.3s\n",
      "[CV] END .............C=20, coef0=0, gamma=0.001, kernel=rbf; total time=   1.4s\n",
      "[CV] END ............C=20, coef0=0, gamma=0.001, kernel=poly; total time=   1.3s\n",
      "[CV] END ............C=20, coef0=0, gamma=0.001, kernel=poly; total time=   1.3s\n",
      "[CV] END ............C=20, coef0=0, gamma=0.001, kernel=poly; total time=   1.3s\n",
      "[CV] END .............C=20, coef0=0, gamma=0.002, kernel=rbf; total time=   1.4s\n",
      "[CV] END .............C=20, coef0=0, gamma=0.002, kernel=rbf; total time=   1.3s\n",
      "[CV] END .............C=20, coef0=0, gamma=0.002, kernel=rbf; total time=   1.4s\n",
      "[CV] END ............C=20, coef0=0, gamma=0.002, kernel=poly; total time=   1.3s\n",
      "[CV] END ............C=20, coef0=0, gamma=0.002, kernel=poly; total time=   1.3s\n",
      "[CV] END ............C=20, coef0=0, gamma=0.002, kernel=poly; total time=   1.3s\n",
      "[CV] END .............C=20, coef0=0, gamma=0.005, kernel=rbf; total time=   1.5s\n",
      "[CV] END .............C=20, coef0=0, gamma=0.005, kernel=rbf; total time=   1.5s\n",
      "[CV] END .............C=20, coef0=0, gamma=0.005, kernel=rbf; total time=   1.6s\n",
      "[CV] END ............C=20, coef0=0, gamma=0.005, kernel=poly; total time=   1.3s\n",
      "[CV] END ............C=20, coef0=0, gamma=0.005, kernel=poly; total time=   1.3s\n",
      "[CV] END ............C=20, coef0=0, gamma=0.005, kernel=poly; total time=   1.3s\n",
      "[CV] END ...............C=20, coef0=1, gamma=0.1, kernel=rbf; total time=   2.3s\n",
      "[CV] END ...............C=20, coef0=1, gamma=0.1, kernel=rbf; total time=   2.2s\n",
      "[CV] END ...............C=20, coef0=1, gamma=0.1, kernel=rbf; total time=   2.2s\n",
      "[CV] END ..............C=20, coef0=1, gamma=0.1, kernel=poly; total time=   1.2s\n",
      "[CV] END ..............C=20, coef0=1, gamma=0.1, kernel=poly; total time=   1.2s\n",
      "[CV] END ..............C=20, coef0=1, gamma=0.1, kernel=poly; total time=   1.2s\n",
      "[CV] END ..............C=20, coef0=1, gamma=0.05, kernel=rbf; total time=   2.1s\n",
      "[CV] END ..............C=20, coef0=1, gamma=0.05, kernel=rbf; total time=   2.2s\n",
      "[CV] END ..............C=20, coef0=1, gamma=0.05, kernel=rbf; total time=   2.2s\n",
      "[CV] END .............C=20, coef0=1, gamma=0.05, kernel=poly; total time=   1.2s\n",
      "[CV] END .............C=20, coef0=1, gamma=0.05, kernel=poly; total time=   1.2s\n",
      "[CV] END .............C=20, coef0=1, gamma=0.05, kernel=poly; total time=   1.2s\n",
      "[CV] END ..............C=20, coef0=1, gamma=0.01, kernel=rbf; total time=   1.7s\n",
      "[CV] END ..............C=20, coef0=1, gamma=0.01, kernel=rbf; total time=   1.5s\n",
      "[CV] END ..............C=20, coef0=1, gamma=0.01, kernel=rbf; total time=   1.6s\n",
      "[CV] END .............C=20, coef0=1, gamma=0.01, kernel=poly; total time=   1.3s\n",
      "[CV] END .............C=20, coef0=1, gamma=0.01, kernel=poly; total time=   1.2s\n",
      "[CV] END .............C=20, coef0=1, gamma=0.01, kernel=poly; total time=   1.3s\n",
      "[CV] END .............C=20, coef0=1, gamma=0.001, kernel=rbf; total time=   1.3s\n",
      "[CV] END .............C=20, coef0=1, gamma=0.001, kernel=rbf; total time=   1.3s\n",
      "[CV] END .............C=20, coef0=1, gamma=0.001, kernel=rbf; total time=   1.4s\n",
      "[CV] END ............C=20, coef0=1, gamma=0.001, kernel=poly; total time=   0.9s\n",
      "[CV] END ............C=20, coef0=1, gamma=0.001, kernel=poly; total time=   0.9s\n",
      "[CV] END ............C=20, coef0=1, gamma=0.001, kernel=poly; total time=   0.9s\n",
      "[CV] END .............C=20, coef0=1, gamma=0.002, kernel=rbf; total time=   1.4s\n",
      "[CV] END .............C=20, coef0=1, gamma=0.002, kernel=rbf; total time=   1.3s\n",
      "[CV] END .............C=20, coef0=1, gamma=0.002, kernel=rbf; total time=   1.4s\n",
      "[CV] END ............C=20, coef0=1, gamma=0.002, kernel=poly; total time=   1.0s\n",
      "[CV] END ............C=20, coef0=1, gamma=0.002, kernel=poly; total time=   1.0s\n",
      "[CV] END ............C=20, coef0=1, gamma=0.002, kernel=poly; total time=   1.0s\n",
      "[CV] END .............C=20, coef0=1, gamma=0.005, kernel=rbf; total time=   1.5s\n",
      "[CV] END .............C=20, coef0=1, gamma=0.005, kernel=rbf; total time=   1.4s\n",
      "[CV] END .............C=20, coef0=1, gamma=0.005, kernel=rbf; total time=   1.5s\n",
      "[CV] END ............C=20, coef0=1, gamma=0.005, kernel=poly; total time=   1.3s\n",
      "[CV] END ............C=20, coef0=1, gamma=0.005, kernel=poly; total time=   1.2s\n",
      "[CV] END ............C=20, coef0=1, gamma=0.005, kernel=poly; total time=   1.3s\n",
      "[CV] END ...............C=30, coef0=0, gamma=0.1, kernel=rbf; total time=   2.3s\n",
      "[CV] END ...............C=30, coef0=0, gamma=0.1, kernel=rbf; total time=   2.3s\n",
      "[CV] END ...............C=30, coef0=0, gamma=0.1, kernel=rbf; total time=   2.3s\n",
      "[CV] END ..............C=30, coef0=0, gamma=0.1, kernel=poly; total time=   1.6s\n",
      "[CV] END ..............C=30, coef0=0, gamma=0.1, kernel=poly; total time=   1.7s\n",
      "[CV] END ..............C=30, coef0=0, gamma=0.1, kernel=poly; total time=   1.6s\n",
      "[CV] END ..............C=30, coef0=0, gamma=0.05, kernel=rbf; total time=   2.2s\n",
      "[CV] END ..............C=30, coef0=0, gamma=0.05, kernel=rbf; total time=   2.2s\n",
      "[CV] END ..............C=30, coef0=0, gamma=0.05, kernel=rbf; total time=   2.2s\n",
      "[CV] END .............C=30, coef0=0, gamma=0.05, kernel=poly; total time=   1.5s\n",
      "[CV] END .............C=30, coef0=0, gamma=0.05, kernel=poly; total time=   1.5s\n",
      "[CV] END .............C=30, coef0=0, gamma=0.05, kernel=poly; total time=   1.6s\n",
      "[CV] END ..............C=30, coef0=0, gamma=0.01, kernel=rbf; total time=   2.0s\n",
      "[CV] END ..............C=30, coef0=0, gamma=0.01, kernel=rbf; total time=   1.8s\n",
      "[CV] END ..............C=30, coef0=0, gamma=0.01, kernel=rbf; total time=   1.9s\n",
      "[CV] END .............C=30, coef0=0, gamma=0.01, kernel=poly; total time=   1.3s\n",
      "[CV] END .............C=30, coef0=0, gamma=0.01, kernel=poly; total time=   1.4s\n",
      "[CV] END .............C=30, coef0=0, gamma=0.01, kernel=poly; total time=   1.4s\n",
      "[CV] END .............C=30, coef0=0, gamma=0.001, kernel=rbf; total time=   1.4s\n",
      "[CV] END .............C=30, coef0=0, gamma=0.001, kernel=rbf; total time=   1.3s\n",
      "[CV] END .............C=30, coef0=0, gamma=0.001, kernel=rbf; total time=   1.4s\n",
      "[CV] END ............C=30, coef0=0, gamma=0.001, kernel=poly; total time=   1.3s\n",
      "[CV] END ............C=30, coef0=0, gamma=0.001, kernel=poly; total time=   1.3s\n",
      "[CV] END ............C=30, coef0=0, gamma=0.001, kernel=poly; total time=   1.3s\n",
      "[CV] END .............C=30, coef0=0, gamma=0.002, kernel=rbf; total time=   1.5s\n",
      "[CV] END .............C=30, coef0=0, gamma=0.002, kernel=rbf; total time=   1.4s\n",
      "[CV] END .............C=30, coef0=0, gamma=0.002, kernel=rbf; total time=   1.5s\n",
      "[CV] END ............C=30, coef0=0, gamma=0.002, kernel=poly; total time=   1.3s\n",
      "[CV] END ............C=30, coef0=0, gamma=0.002, kernel=poly; total time=   1.3s\n",
      "[CV] END ............C=30, coef0=0, gamma=0.002, kernel=poly; total time=   1.3s\n",
      "[CV] END .............C=30, coef0=0, gamma=0.005, kernel=rbf; total time=   1.6s\n",
      "[CV] END .............C=30, coef0=0, gamma=0.005, kernel=rbf; total time=   1.6s\n",
      "[CV] END .............C=30, coef0=0, gamma=0.005, kernel=rbf; total time=   1.7s\n",
      "[CV] END ............C=30, coef0=0, gamma=0.005, kernel=poly; total time=   1.3s\n",
      "[CV] END ............C=30, coef0=0, gamma=0.005, kernel=poly; total time=   1.3s\n",
      "[CV] END ............C=30, coef0=0, gamma=0.005, kernel=poly; total time=   1.3s\n",
      "[CV] END ...............C=30, coef0=1, gamma=0.1, kernel=rbf; total time=   2.3s\n",
      "[CV] END ...............C=30, coef0=1, gamma=0.1, kernel=rbf; total time=   2.3s\n",
      "[CV] END ...............C=30, coef0=1, gamma=0.1, kernel=rbf; total time=   2.3s\n",
      "[CV] END ..............C=30, coef0=1, gamma=0.1, kernel=poly; total time=   1.2s\n",
      "[CV] END ..............C=30, coef0=1, gamma=0.1, kernel=poly; total time=   1.2s\n",
      "[CV] END ..............C=30, coef0=1, gamma=0.1, kernel=poly; total time=   1.2s\n",
      "[CV] END ..............C=30, coef0=1, gamma=0.05, kernel=rbf; total time=   2.2s\n",
      "[CV] END ..............C=30, coef0=1, gamma=0.05, kernel=rbf; total time=   2.1s\n",
      "[CV] END ..............C=30, coef0=1, gamma=0.05, kernel=rbf; total time=   2.2s\n",
      "[CV] END .............C=30, coef0=1, gamma=0.05, kernel=poly; total time=   1.2s\n",
      "[CV] END .............C=30, coef0=1, gamma=0.05, kernel=poly; total time=   1.2s\n",
      "[CV] END .............C=30, coef0=1, gamma=0.05, kernel=poly; total time=   1.2s\n",
      "[CV] END ..............C=30, coef0=1, gamma=0.01, kernel=rbf; total time=   1.8s\n",
      "[CV] END ..............C=30, coef0=1, gamma=0.01, kernel=rbf; total time=   1.7s\n",
      "[CV] END ..............C=30, coef0=1, gamma=0.01, kernel=rbf; total time=   1.9s\n",
      "[CV] END .............C=30, coef0=1, gamma=0.01, kernel=poly; total time=   1.4s\n",
      "[CV] END .............C=30, coef0=1, gamma=0.01, kernel=poly; total time=   1.3s\n",
      "[CV] END .............C=30, coef0=1, gamma=0.01, kernel=poly; total time=   1.4s\n",
      "[CV] END .............C=30, coef0=1, gamma=0.001, kernel=rbf; total time=   1.4s\n",
      "[CV] END .............C=30, coef0=1, gamma=0.001, kernel=rbf; total time=   1.4s\n",
      "[CV] END .............C=30, coef0=1, gamma=0.001, kernel=rbf; total time=   1.4s\n",
      "[CV] END ............C=30, coef0=1, gamma=0.001, kernel=poly; total time=   1.0s\n",
      "[CV] END ............C=30, coef0=1, gamma=0.001, kernel=poly; total time=   0.9s\n",
      "[CV] END ............C=30, coef0=1, gamma=0.001, kernel=poly; total time=   1.0s\n",
      "[CV] END .............C=30, coef0=1, gamma=0.002, kernel=rbf; total time=   1.5s\n",
      "[CV] END .............C=30, coef0=1, gamma=0.002, kernel=rbf; total time=   1.4s\n",
      "[CV] END .............C=30, coef0=1, gamma=0.002, kernel=rbf; total time=   1.5s\n",
      "[CV] END ............C=30, coef0=1, gamma=0.002, kernel=poly; total time=   1.2s\n",
      "[CV] END ............C=30, coef0=1, gamma=0.002, kernel=poly; total time=   1.1s\n",
      "[CV] END ............C=30, coef0=1, gamma=0.002, kernel=poly; total time=   1.2s\n",
      "[CV] END .............C=30, coef0=1, gamma=0.005, kernel=rbf; total time=   1.7s\n",
      "[CV] END .............C=30, coef0=1, gamma=0.005, kernel=rbf; total time=   1.6s\n",
      "[CV] END .............C=30, coef0=1, gamma=0.005, kernel=rbf; total time=   1.7s\n",
      "[CV] END ............C=30, coef0=1, gamma=0.005, kernel=poly; total time=   1.5s\n",
      "[CV] END ............C=30, coef0=1, gamma=0.005, kernel=poly; total time=   1.4s\n",
      "[CV] END ............C=30, coef0=1, gamma=0.005, kernel=poly; total time=   1.5s\n",
      "[CV] END ...............C=50, coef0=0, gamma=0.1, kernel=rbf; total time=   2.3s\n",
      "[CV] END ...............C=50, coef0=0, gamma=0.1, kernel=rbf; total time=   2.3s\n",
      "[CV] END ...............C=50, coef0=0, gamma=0.1, kernel=rbf; total time=   2.3s\n",
      "[CV] END ..............C=50, coef0=0, gamma=0.1, kernel=poly; total time=   1.5s\n",
      "[CV] END ..............C=50, coef0=0, gamma=0.1, kernel=poly; total time=   1.6s\n",
      "[CV] END ..............C=50, coef0=0, gamma=0.1, kernel=poly; total time=   1.6s\n",
      "[CV] END ..............C=50, coef0=0, gamma=0.05, kernel=rbf; total time=   2.2s\n",
      "[CV] END ..............C=50, coef0=0, gamma=0.05, kernel=rbf; total time=   2.1s\n",
      "[CV] END ..............C=50, coef0=0, gamma=0.05, kernel=rbf; total time=   2.2s\n",
      "[CV] END .............C=50, coef0=0, gamma=0.05, kernel=poly; total time=   1.6s\n",
      "[CV] END .............C=50, coef0=0, gamma=0.05, kernel=poly; total time=   1.5s\n",
      "[CV] END .............C=50, coef0=0, gamma=0.05, kernel=poly; total time=   1.6s\n",
      "[CV] END ..............C=50, coef0=0, gamma=0.01, kernel=rbf; total time=   2.0s\n",
      "[CV] END ..............C=50, coef0=0, gamma=0.01, kernel=rbf; total time=   1.9s\n",
      "[CV] END ..............C=50, coef0=0, gamma=0.01, kernel=rbf; total time=   1.9s\n",
      "[CV] END .............C=50, coef0=0, gamma=0.01, kernel=poly; total time=   1.4s\n",
      "[CV] END .............C=50, coef0=0, gamma=0.01, kernel=poly; total time=   1.3s\n",
      "[CV] END .............C=50, coef0=0, gamma=0.01, kernel=poly; total time=   1.4s\n",
      "[CV] END .............C=50, coef0=0, gamma=0.001, kernel=rbf; total time=   1.5s\n",
      "[CV] END .............C=50, coef0=0, gamma=0.001, kernel=rbf; total time=   1.4s\n",
      "[CV] END .............C=50, coef0=0, gamma=0.001, kernel=rbf; total time=   1.5s\n",
      "[CV] END ............C=50, coef0=0, gamma=0.001, kernel=poly; total time=   1.3s\n",
      "[CV] END ............C=50, coef0=0, gamma=0.001, kernel=poly; total time=   1.3s\n",
      "[CV] END ............C=50, coef0=0, gamma=0.001, kernel=poly; total time=   1.3s\n",
      "[CV] END .............C=50, coef0=0, gamma=0.002, kernel=rbf; total time=   1.6s\n",
      "[CV] END .............C=50, coef0=0, gamma=0.002, kernel=rbf; total time=   1.5s\n",
      "[CV] END .............C=50, coef0=0, gamma=0.002, kernel=rbf; total time=   1.6s\n",
      "[CV] END ............C=50, coef0=0, gamma=0.002, kernel=poly; total time=   1.3s\n",
      "[CV] END ............C=50, coef0=0, gamma=0.002, kernel=poly; total time=   1.3s\n",
      "[CV] END ............C=50, coef0=0, gamma=0.002, kernel=poly; total time=   1.3s\n",
      "[CV] END .............C=50, coef0=0, gamma=0.005, kernel=rbf; total time=   1.8s\n",
      "[CV] END .............C=50, coef0=0, gamma=0.005, kernel=rbf; total time=   1.7s\n",
      "[CV] END .............C=50, coef0=0, gamma=0.005, kernel=rbf; total time=   1.8s\n",
      "[CV] END ............C=50, coef0=0, gamma=0.005, kernel=poly; total time=   1.2s\n",
      "[CV] END ............C=50, coef0=0, gamma=0.005, kernel=poly; total time=   1.2s\n",
      "[CV] END ............C=50, coef0=0, gamma=0.005, kernel=poly; total time=   1.2s\n",
      "[CV] END ...............C=50, coef0=1, gamma=0.1, kernel=rbf; total time=   2.3s\n",
      "[CV] END ...............C=50, coef0=1, gamma=0.1, kernel=rbf; total time=   2.3s\n",
      "[CV] END ...............C=50, coef0=1, gamma=0.1, kernel=rbf; total time=   2.3s\n",
      "[CV] END ..............C=50, coef0=1, gamma=0.1, kernel=poly; total time=   1.2s\n",
      "[CV] END ..............C=50, coef0=1, gamma=0.1, kernel=poly; total time=   1.2s\n",
      "[CV] END ..............C=50, coef0=1, gamma=0.1, kernel=poly; total time=   1.2s\n",
      "[CV] END ..............C=50, coef0=1, gamma=0.05, kernel=rbf; total time=   2.2s\n",
      "[CV] END ..............C=50, coef0=1, gamma=0.05, kernel=rbf; total time=   2.1s\n",
      "[CV] END ..............C=50, coef0=1, gamma=0.05, kernel=rbf; total time=   2.2s\n",
      "[CV] END .............C=50, coef0=1, gamma=0.05, kernel=poly; total time=   1.3s\n",
      "[CV] END .............C=50, coef0=1, gamma=0.05, kernel=poly; total time=   1.2s\n",
      "[CV] END .............C=50, coef0=1, gamma=0.05, kernel=poly; total time=   1.4s\n",
      "[CV] END ..............C=50, coef0=1, gamma=0.01, kernel=rbf; total time=   2.1s\n",
      "[CV] END ..............C=50, coef0=1, gamma=0.01, kernel=rbf; total time=   1.9s\n",
      "[CV] END ..............C=50, coef0=1, gamma=0.01, kernel=rbf; total time=   2.0s\n",
      "[CV] END .............C=50, coef0=1, gamma=0.01, kernel=poly; total time=   1.5s\n",
      "[CV] END .............C=50, coef0=1, gamma=0.01, kernel=poly; total time=   1.4s\n",
      "[CV] END .............C=50, coef0=1, gamma=0.01, kernel=poly; total time=   1.4s\n",
      "[CV] END .............C=50, coef0=1, gamma=0.001, kernel=rbf; total time=   1.5s\n",
      "[CV] END .............C=50, coef0=1, gamma=0.001, kernel=rbf; total time=   1.4s\n",
      "[CV] END .............C=50, coef0=1, gamma=0.001, kernel=rbf; total time=   1.5s\n",
      "[CV] END ............C=50, coef0=1, gamma=0.001, kernel=poly; total time=   1.1s\n",
      "[CV] END ............C=50, coef0=1, gamma=0.001, kernel=poly; total time=   1.0s\n",
      "[CV] END ............C=50, coef0=1, gamma=0.001, kernel=poly; total time=   1.1s\n",
      "[CV] END .............C=50, coef0=1, gamma=0.002, kernel=rbf; total time=   1.6s\n",
      "[CV] END .............C=50, coef0=1, gamma=0.002, kernel=rbf; total time=   1.5s\n",
      "[CV] END .............C=50, coef0=1, gamma=0.002, kernel=rbf; total time=   1.6s\n",
      "[CV] END ............C=50, coef0=1, gamma=0.002, kernel=poly; total time=   1.4s\n",
      "[CV] END ............C=50, coef0=1, gamma=0.002, kernel=poly; total time=   1.3s\n",
      "[CV] END ............C=50, coef0=1, gamma=0.002, kernel=poly; total time=   1.4s\n",
      "[CV] END .............C=50, coef0=1, gamma=0.005, kernel=rbf; total time=   1.9s\n",
      "[CV] END .............C=50, coef0=1, gamma=0.005, kernel=rbf; total time=   1.7s\n",
      "[CV] END .............C=50, coef0=1, gamma=0.005, kernel=rbf; total time=   1.8s\n",
      "[CV] END ............C=50, coef0=1, gamma=0.005, kernel=poly; total time=   1.7s\n",
      "[CV] END ............C=50, coef0=1, gamma=0.005, kernel=poly; total time=   1.6s\n",
      "[CV] END ............C=50, coef0=1, gamma=0.005, kernel=poly; total time=   1.7s\n"
     ]
    },
    {
     "data": {
      "text/plain": "GridSearchCV(cv=3, estimator=SVC(probability=True),\n             param_grid={'C': [0.5, 1, 20, 30, 50], 'coef0': [0, 1],\n                         'gamma': [0.1, 0.05, 0.01, 0.001, 0.002, 0.005],\n                         'kernel': ['rbf', 'poly']},\n             scoring='accuracy', verbose=2)",
      "text/html": "<style>#sk-container-id-1 {\n  /* Definition of color scheme common for light and dark mode */\n  --sklearn-color-text: #000;\n  --sklearn-color-text-muted: #666;\n  --sklearn-color-line: gray;\n  /* Definition of color scheme for unfitted estimators */\n  --sklearn-color-unfitted-level-0: #fff5e6;\n  --sklearn-color-unfitted-level-1: #f6e4d2;\n  --sklearn-color-unfitted-level-2: #ffe0b3;\n  --sklearn-color-unfitted-level-3: chocolate;\n  /* Definition of color scheme for fitted estimators */\n  --sklearn-color-fitted-level-0: #f0f8ff;\n  --sklearn-color-fitted-level-1: #d4ebff;\n  --sklearn-color-fitted-level-2: #b3dbfd;\n  --sklearn-color-fitted-level-3: cornflowerblue;\n\n  /* Specific color for light theme */\n  --sklearn-color-text-on-default-background: var(--sg-text-color, var(--theme-code-foreground, var(--jp-content-font-color1, black)));\n  --sklearn-color-background: var(--sg-background-color, var(--theme-background, var(--jp-layout-color0, white)));\n  --sklearn-color-border-box: var(--sg-text-color, var(--theme-code-foreground, var(--jp-content-font-color1, black)));\n  --sklearn-color-icon: #696969;\n\n  @media (prefers-color-scheme: dark) {\n    /* Redefinition of color scheme for dark theme */\n    --sklearn-color-text-on-default-background: var(--sg-text-color, var(--theme-code-foreground, var(--jp-content-font-color1, white)));\n    --sklearn-color-background: var(--sg-background-color, var(--theme-background, var(--jp-layout-color0, #111)));\n    --sklearn-color-border-box: var(--sg-text-color, var(--theme-code-foreground, var(--jp-content-font-color1, white)));\n    --sklearn-color-icon: #878787;\n  }\n}\n\n#sk-container-id-1 {\n  color: var(--sklearn-color-text);\n}\n\n#sk-container-id-1 pre {\n  padding: 0;\n}\n\n#sk-container-id-1 input.sk-hidden--visually {\n  border: 0;\n  clip: rect(1px 1px 1px 1px);\n  clip: rect(1px, 1px, 1px, 1px);\n  height: 1px;\n  margin: -1px;\n  overflow: hidden;\n  padding: 0;\n  position: absolute;\n  width: 1px;\n}\n\n#sk-container-id-1 div.sk-dashed-wrapped {\n  border: 1px dashed var(--sklearn-color-line);\n  margin: 0 0.4em 0.5em 0.4em;\n  box-sizing: border-box;\n  padding-bottom: 0.4em;\n  background-color: var(--sklearn-color-background);\n}\n\n#sk-container-id-1 div.sk-container {\n  /* jupyter's `normalize.less` sets `[hidden] { display: none; }`\n     but bootstrap.min.css set `[hidden] { display: none !important; }`\n     so we also need the `!important` here to be able to override the\n     default hidden behavior on the sphinx rendered scikit-learn.org.\n     See: https://github.com/scikit-learn/scikit-learn/issues/21755 */\n  display: inline-block !important;\n  position: relative;\n}\n\n#sk-container-id-1 div.sk-text-repr-fallback {\n  display: none;\n}\n\ndiv.sk-parallel-item,\ndiv.sk-serial,\ndiv.sk-item {\n  /* draw centered vertical line to link estimators */\n  background-image: linear-gradient(var(--sklearn-color-text-on-default-background), var(--sklearn-color-text-on-default-background));\n  background-size: 2px 100%;\n  background-repeat: no-repeat;\n  background-position: center center;\n}\n\n/* Parallel-specific style estimator block */\n\n#sk-container-id-1 div.sk-parallel-item::after {\n  content: \"\";\n  width: 100%;\n  border-bottom: 2px solid var(--sklearn-color-text-on-default-background);\n  flex-grow: 1;\n}\n\n#sk-container-id-1 div.sk-parallel {\n  display: flex;\n  align-items: stretch;\n  justify-content: center;\n  background-color: var(--sklearn-color-background);\n  position: relative;\n}\n\n#sk-container-id-1 div.sk-parallel-item {\n  display: flex;\n  flex-direction: column;\n}\n\n#sk-container-id-1 div.sk-parallel-item:first-child::after {\n  align-self: flex-end;\n  width: 50%;\n}\n\n#sk-container-id-1 div.sk-parallel-item:last-child::after {\n  align-self: flex-start;\n  width: 50%;\n}\n\n#sk-container-id-1 div.sk-parallel-item:only-child::after {\n  width: 0;\n}\n\n/* Serial-specific style estimator block */\n\n#sk-container-id-1 div.sk-serial {\n  display: flex;\n  flex-direction: column;\n  align-items: center;\n  background-color: var(--sklearn-color-background);\n  padding-right: 1em;\n  padding-left: 1em;\n}\n\n\n/* Toggleable style: style used for estimator/Pipeline/ColumnTransformer box that is\nclickable and can be expanded/collapsed.\n- Pipeline and ColumnTransformer use this feature and define the default style\n- Estimators will overwrite some part of the style using the `sk-estimator` class\n*/\n\n/* Pipeline and ColumnTransformer style (default) */\n\n#sk-container-id-1 div.sk-toggleable {\n  /* Default theme specific background. It is overwritten whether we have a\n  specific estimator or a Pipeline/ColumnTransformer */\n  background-color: var(--sklearn-color-background);\n}\n\n/* Toggleable label */\n#sk-container-id-1 label.sk-toggleable__label {\n  cursor: pointer;\n  display: flex;\n  width: 100%;\n  margin-bottom: 0;\n  padding: 0.5em;\n  box-sizing: border-box;\n  text-align: center;\n  align-items: start;\n  justify-content: space-between;\n  gap: 0.5em;\n}\n\n#sk-container-id-1 label.sk-toggleable__label .caption {\n  font-size: 0.6rem;\n  font-weight: lighter;\n  color: var(--sklearn-color-text-muted);\n}\n\n#sk-container-id-1 label.sk-toggleable__label-arrow:before {\n  /* Arrow on the left of the label */\n  content: \"▸\";\n  float: left;\n  margin-right: 0.25em;\n  color: var(--sklearn-color-icon);\n}\n\n#sk-container-id-1 label.sk-toggleable__label-arrow:hover:before {\n  color: var(--sklearn-color-text);\n}\n\n/* Toggleable content - dropdown */\n\n#sk-container-id-1 div.sk-toggleable__content {\n  max-height: 0;\n  max-width: 0;\n  overflow: hidden;\n  text-align: left;\n  /* unfitted */\n  background-color: var(--sklearn-color-unfitted-level-0);\n}\n\n#sk-container-id-1 div.sk-toggleable__content.fitted {\n  /* fitted */\n  background-color: var(--sklearn-color-fitted-level-0);\n}\n\n#sk-container-id-1 div.sk-toggleable__content pre {\n  margin: 0.2em;\n  border-radius: 0.25em;\n  color: var(--sklearn-color-text);\n  /* unfitted */\n  background-color: var(--sklearn-color-unfitted-level-0);\n}\n\n#sk-container-id-1 div.sk-toggleable__content.fitted pre {\n  /* unfitted */\n  background-color: var(--sklearn-color-fitted-level-0);\n}\n\n#sk-container-id-1 input.sk-toggleable__control:checked~div.sk-toggleable__content {\n  /* Expand drop-down */\n  max-height: 200px;\n  max-width: 100%;\n  overflow: auto;\n}\n\n#sk-container-id-1 input.sk-toggleable__control:checked~label.sk-toggleable__label-arrow:before {\n  content: \"▾\";\n}\n\n/* Pipeline/ColumnTransformer-specific style */\n\n#sk-container-id-1 div.sk-label input.sk-toggleable__control:checked~label.sk-toggleable__label {\n  color: var(--sklearn-color-text);\n  background-color: var(--sklearn-color-unfitted-level-2);\n}\n\n#sk-container-id-1 div.sk-label.fitted input.sk-toggleable__control:checked~label.sk-toggleable__label {\n  background-color: var(--sklearn-color-fitted-level-2);\n}\n\n/* Estimator-specific style */\n\n/* Colorize estimator box */\n#sk-container-id-1 div.sk-estimator input.sk-toggleable__control:checked~label.sk-toggleable__label {\n  /* unfitted */\n  background-color: var(--sklearn-color-unfitted-level-2);\n}\n\n#sk-container-id-1 div.sk-estimator.fitted input.sk-toggleable__control:checked~label.sk-toggleable__label {\n  /* fitted */\n  background-color: var(--sklearn-color-fitted-level-2);\n}\n\n#sk-container-id-1 div.sk-label label.sk-toggleable__label,\n#sk-container-id-1 div.sk-label label {\n  /* The background is the default theme color */\n  color: var(--sklearn-color-text-on-default-background);\n}\n\n/* On hover, darken the color of the background */\n#sk-container-id-1 div.sk-label:hover label.sk-toggleable__label {\n  color: var(--sklearn-color-text);\n  background-color: var(--sklearn-color-unfitted-level-2);\n}\n\n/* Label box, darken color on hover, fitted */\n#sk-container-id-1 div.sk-label.fitted:hover label.sk-toggleable__label.fitted {\n  color: var(--sklearn-color-text);\n  background-color: var(--sklearn-color-fitted-level-2);\n}\n\n/* Estimator label */\n\n#sk-container-id-1 div.sk-label label {\n  font-family: monospace;\n  font-weight: bold;\n  display: inline-block;\n  line-height: 1.2em;\n}\n\n#sk-container-id-1 div.sk-label-container {\n  text-align: center;\n}\n\n/* Estimator-specific */\n#sk-container-id-1 div.sk-estimator {\n  font-family: monospace;\n  border: 1px dotted var(--sklearn-color-border-box);\n  border-radius: 0.25em;\n  box-sizing: border-box;\n  margin-bottom: 0.5em;\n  /* unfitted */\n  background-color: var(--sklearn-color-unfitted-level-0);\n}\n\n#sk-container-id-1 div.sk-estimator.fitted {\n  /* fitted */\n  background-color: var(--sklearn-color-fitted-level-0);\n}\n\n/* on hover */\n#sk-container-id-1 div.sk-estimator:hover {\n  /* unfitted */\n  background-color: var(--sklearn-color-unfitted-level-2);\n}\n\n#sk-container-id-1 div.sk-estimator.fitted:hover {\n  /* fitted */\n  background-color: var(--sklearn-color-fitted-level-2);\n}\n\n/* Specification for estimator info (e.g. \"i\" and \"?\") */\n\n/* Common style for \"i\" and \"?\" */\n\n.sk-estimator-doc-link,\na:link.sk-estimator-doc-link,\na:visited.sk-estimator-doc-link {\n  float: right;\n  font-size: smaller;\n  line-height: 1em;\n  font-family: monospace;\n  background-color: var(--sklearn-color-background);\n  border-radius: 1em;\n  height: 1em;\n  width: 1em;\n  text-decoration: none !important;\n  margin-left: 0.5em;\n  text-align: center;\n  /* unfitted */\n  border: var(--sklearn-color-unfitted-level-1) 1pt solid;\n  color: var(--sklearn-color-unfitted-level-1);\n}\n\n.sk-estimator-doc-link.fitted,\na:link.sk-estimator-doc-link.fitted,\na:visited.sk-estimator-doc-link.fitted {\n  /* fitted */\n  border: var(--sklearn-color-fitted-level-1) 1pt solid;\n  color: var(--sklearn-color-fitted-level-1);\n}\n\n/* On hover */\ndiv.sk-estimator:hover .sk-estimator-doc-link:hover,\n.sk-estimator-doc-link:hover,\ndiv.sk-label-container:hover .sk-estimator-doc-link:hover,\n.sk-estimator-doc-link:hover {\n  /* unfitted */\n  background-color: var(--sklearn-color-unfitted-level-3);\n  color: var(--sklearn-color-background);\n  text-decoration: none;\n}\n\ndiv.sk-estimator.fitted:hover .sk-estimator-doc-link.fitted:hover,\n.sk-estimator-doc-link.fitted:hover,\ndiv.sk-label-container:hover .sk-estimator-doc-link.fitted:hover,\n.sk-estimator-doc-link.fitted:hover {\n  /* fitted */\n  background-color: var(--sklearn-color-fitted-level-3);\n  color: var(--sklearn-color-background);\n  text-decoration: none;\n}\n\n/* Span, style for the box shown on hovering the info icon */\n.sk-estimator-doc-link span {\n  display: none;\n  z-index: 9999;\n  position: relative;\n  font-weight: normal;\n  right: .2ex;\n  padding: .5ex;\n  margin: .5ex;\n  width: min-content;\n  min-width: 20ex;\n  max-width: 50ex;\n  color: var(--sklearn-color-text);\n  box-shadow: 2pt 2pt 4pt #999;\n  /* unfitted */\n  background: var(--sklearn-color-unfitted-level-0);\n  border: .5pt solid var(--sklearn-color-unfitted-level-3);\n}\n\n.sk-estimator-doc-link.fitted span {\n  /* fitted */\n  background: var(--sklearn-color-fitted-level-0);\n  border: var(--sklearn-color-fitted-level-3);\n}\n\n.sk-estimator-doc-link:hover span {\n  display: block;\n}\n\n/* \"?\"-specific style due to the `<a>` HTML tag */\n\n#sk-container-id-1 a.estimator_doc_link {\n  float: right;\n  font-size: 1rem;\n  line-height: 1em;\n  font-family: monospace;\n  background-color: var(--sklearn-color-background);\n  border-radius: 1rem;\n  height: 1rem;\n  width: 1rem;\n  text-decoration: none;\n  /* unfitted */\n  color: var(--sklearn-color-unfitted-level-1);\n  border: var(--sklearn-color-unfitted-level-1) 1pt solid;\n}\n\n#sk-container-id-1 a.estimator_doc_link.fitted {\n  /* fitted */\n  border: var(--sklearn-color-fitted-level-1) 1pt solid;\n  color: var(--sklearn-color-fitted-level-1);\n}\n\n/* On hover */\n#sk-container-id-1 a.estimator_doc_link:hover {\n  /* unfitted */\n  background-color: var(--sklearn-color-unfitted-level-3);\n  color: var(--sklearn-color-background);\n  text-decoration: none;\n}\n\n#sk-container-id-1 a.estimator_doc_link.fitted:hover {\n  /* fitted */\n  background-color: var(--sklearn-color-fitted-level-3);\n}\n</style><div id=\"sk-container-id-1\" class=\"sk-top-container\"><div class=\"sk-text-repr-fallback\"><pre>GridSearchCV(cv=3, estimator=SVC(probability=True),\n             param_grid={&#x27;C&#x27;: [0.5, 1, 20, 30, 50], &#x27;coef0&#x27;: [0, 1],\n                         &#x27;gamma&#x27;: [0.1, 0.05, 0.01, 0.001, 0.002, 0.005],\n                         &#x27;kernel&#x27;: [&#x27;rbf&#x27;, &#x27;poly&#x27;]},\n             scoring=&#x27;accuracy&#x27;, verbose=2)</pre><b>In a Jupyter environment, please rerun this cell to show the HTML representation or trust the notebook. <br />On GitHub, the HTML representation is unable to render, please try loading this page with nbviewer.org.</b></div><div class=\"sk-container\" hidden><div class=\"sk-item sk-dashed-wrapped\"><div class=\"sk-label-container\"><div class=\"sk-label fitted sk-toggleable\"><input class=\"sk-toggleable__control sk-hidden--visually\" id=\"sk-estimator-id-1\" type=\"checkbox\" ><label for=\"sk-estimator-id-1\" class=\"sk-toggleable__label fitted sk-toggleable__label-arrow\"><div><div>GridSearchCV</div></div><div><a class=\"sk-estimator-doc-link fitted\" rel=\"noreferrer\" target=\"_blank\" href=\"https://scikit-learn.org/1.6/modules/generated/sklearn.model_selection.GridSearchCV.html\">?<span>Documentation for GridSearchCV</span></a><span class=\"sk-estimator-doc-link fitted\">i<span>Fitted</span></span></div></label><div class=\"sk-toggleable__content fitted\"><pre>GridSearchCV(cv=3, estimator=SVC(probability=True),\n             param_grid={&#x27;C&#x27;: [0.5, 1, 20, 30, 50], &#x27;coef0&#x27;: [0, 1],\n                         &#x27;gamma&#x27;: [0.1, 0.05, 0.01, 0.001, 0.002, 0.005],\n                         &#x27;kernel&#x27;: [&#x27;rbf&#x27;, &#x27;poly&#x27;]},\n             scoring=&#x27;accuracy&#x27;, verbose=2)</pre></div> </div></div><div class=\"sk-parallel\"><div class=\"sk-parallel-item\"><div class=\"sk-item\"><div class=\"sk-label-container\"><div class=\"sk-label fitted sk-toggleable\"><input class=\"sk-toggleable__control sk-hidden--visually\" id=\"sk-estimator-id-2\" type=\"checkbox\" ><label for=\"sk-estimator-id-2\" class=\"sk-toggleable__label fitted sk-toggleable__label-arrow\"><div><div>best_estimator_: SVC</div></div></label><div class=\"sk-toggleable__content fitted\"><pre>SVC(C=1, coef0=0, gamma=0.05, probability=True)</pre></div> </div></div><div class=\"sk-serial\"><div class=\"sk-item\"><div class=\"sk-estimator fitted sk-toggleable\"><input class=\"sk-toggleable__control sk-hidden--visually\" id=\"sk-estimator-id-3\" type=\"checkbox\" ><label for=\"sk-estimator-id-3\" class=\"sk-toggleable__label fitted sk-toggleable__label-arrow\"><div><div>SVC</div></div><div><a class=\"sk-estimator-doc-link fitted\" rel=\"noreferrer\" target=\"_blank\" href=\"https://scikit-learn.org/1.6/modules/generated/sklearn.svm.SVC.html\">?<span>Documentation for SVC</span></a></div></label><div class=\"sk-toggleable__content fitted\"><pre>SVC(C=1, coef0=0, gamma=0.05, probability=True)</pre></div> </div></div></div></div></div></div></div></div></div>"
     },
     "execution_count": 13,
     "metadata": {},
     "output_type": "execute_result"
    }
   ],
   "source": [
    "model_grid.fit(x_train, y_train)"
   ],
   "metadata": {
    "collapsed": false,
    "ExecuteTime": {
     "end_time": "2025-03-05T04:23:52.650813Z",
     "start_time": "2025-03-05T04:14:41.560246Z"
    }
   },
   "id": "5c4e71d28f88fe83",
   "execution_count": 13
  },
  {
   "cell_type": "code",
   "outputs": [
    {
     "data": {
      "text/plain": "SVC(C=1, coef0=0, gamma=0.05, probability=True)",
      "text/html": "<style>#sk-container-id-2 {\n  /* Definition of color scheme common for light and dark mode */\n  --sklearn-color-text: #000;\n  --sklearn-color-text-muted: #666;\n  --sklearn-color-line: gray;\n  /* Definition of color scheme for unfitted estimators */\n  --sklearn-color-unfitted-level-0: #fff5e6;\n  --sklearn-color-unfitted-level-1: #f6e4d2;\n  --sklearn-color-unfitted-level-2: #ffe0b3;\n  --sklearn-color-unfitted-level-3: chocolate;\n  /* Definition of color scheme for fitted estimators */\n  --sklearn-color-fitted-level-0: #f0f8ff;\n  --sklearn-color-fitted-level-1: #d4ebff;\n  --sklearn-color-fitted-level-2: #b3dbfd;\n  --sklearn-color-fitted-level-3: cornflowerblue;\n\n  /* Specific color for light theme */\n  --sklearn-color-text-on-default-background: var(--sg-text-color, var(--theme-code-foreground, var(--jp-content-font-color1, black)));\n  --sklearn-color-background: var(--sg-background-color, var(--theme-background, var(--jp-layout-color0, white)));\n  --sklearn-color-border-box: var(--sg-text-color, var(--theme-code-foreground, var(--jp-content-font-color1, black)));\n  --sklearn-color-icon: #696969;\n\n  @media (prefers-color-scheme: dark) {\n    /* Redefinition of color scheme for dark theme */\n    --sklearn-color-text-on-default-background: var(--sg-text-color, var(--theme-code-foreground, var(--jp-content-font-color1, white)));\n    --sklearn-color-background: var(--sg-background-color, var(--theme-background, var(--jp-layout-color0, #111)));\n    --sklearn-color-border-box: var(--sg-text-color, var(--theme-code-foreground, var(--jp-content-font-color1, white)));\n    --sklearn-color-icon: #878787;\n  }\n}\n\n#sk-container-id-2 {\n  color: var(--sklearn-color-text);\n}\n\n#sk-container-id-2 pre {\n  padding: 0;\n}\n\n#sk-container-id-2 input.sk-hidden--visually {\n  border: 0;\n  clip: rect(1px 1px 1px 1px);\n  clip: rect(1px, 1px, 1px, 1px);\n  height: 1px;\n  margin: -1px;\n  overflow: hidden;\n  padding: 0;\n  position: absolute;\n  width: 1px;\n}\n\n#sk-container-id-2 div.sk-dashed-wrapped {\n  border: 1px dashed var(--sklearn-color-line);\n  margin: 0 0.4em 0.5em 0.4em;\n  box-sizing: border-box;\n  padding-bottom: 0.4em;\n  background-color: var(--sklearn-color-background);\n}\n\n#sk-container-id-2 div.sk-container {\n  /* jupyter's `normalize.less` sets `[hidden] { display: none; }`\n     but bootstrap.min.css set `[hidden] { display: none !important; }`\n     so we also need the `!important` here to be able to override the\n     default hidden behavior on the sphinx rendered scikit-learn.org.\n     See: https://github.com/scikit-learn/scikit-learn/issues/21755 */\n  display: inline-block !important;\n  position: relative;\n}\n\n#sk-container-id-2 div.sk-text-repr-fallback {\n  display: none;\n}\n\ndiv.sk-parallel-item,\ndiv.sk-serial,\ndiv.sk-item {\n  /* draw centered vertical line to link estimators */\n  background-image: linear-gradient(var(--sklearn-color-text-on-default-background), var(--sklearn-color-text-on-default-background));\n  background-size: 2px 100%;\n  background-repeat: no-repeat;\n  background-position: center center;\n}\n\n/* Parallel-specific style estimator block */\n\n#sk-container-id-2 div.sk-parallel-item::after {\n  content: \"\";\n  width: 100%;\n  border-bottom: 2px solid var(--sklearn-color-text-on-default-background);\n  flex-grow: 1;\n}\n\n#sk-container-id-2 div.sk-parallel {\n  display: flex;\n  align-items: stretch;\n  justify-content: center;\n  background-color: var(--sklearn-color-background);\n  position: relative;\n}\n\n#sk-container-id-2 div.sk-parallel-item {\n  display: flex;\n  flex-direction: column;\n}\n\n#sk-container-id-2 div.sk-parallel-item:first-child::after {\n  align-self: flex-end;\n  width: 50%;\n}\n\n#sk-container-id-2 div.sk-parallel-item:last-child::after {\n  align-self: flex-start;\n  width: 50%;\n}\n\n#sk-container-id-2 div.sk-parallel-item:only-child::after {\n  width: 0;\n}\n\n/* Serial-specific style estimator block */\n\n#sk-container-id-2 div.sk-serial {\n  display: flex;\n  flex-direction: column;\n  align-items: center;\n  background-color: var(--sklearn-color-background);\n  padding-right: 1em;\n  padding-left: 1em;\n}\n\n\n/* Toggleable style: style used for estimator/Pipeline/ColumnTransformer box that is\nclickable and can be expanded/collapsed.\n- Pipeline and ColumnTransformer use this feature and define the default style\n- Estimators will overwrite some part of the style using the `sk-estimator` class\n*/\n\n/* Pipeline and ColumnTransformer style (default) */\n\n#sk-container-id-2 div.sk-toggleable {\n  /* Default theme specific background. It is overwritten whether we have a\n  specific estimator or a Pipeline/ColumnTransformer */\n  background-color: var(--sklearn-color-background);\n}\n\n/* Toggleable label */\n#sk-container-id-2 label.sk-toggleable__label {\n  cursor: pointer;\n  display: flex;\n  width: 100%;\n  margin-bottom: 0;\n  padding: 0.5em;\n  box-sizing: border-box;\n  text-align: center;\n  align-items: start;\n  justify-content: space-between;\n  gap: 0.5em;\n}\n\n#sk-container-id-2 label.sk-toggleable__label .caption {\n  font-size: 0.6rem;\n  font-weight: lighter;\n  color: var(--sklearn-color-text-muted);\n}\n\n#sk-container-id-2 label.sk-toggleable__label-arrow:before {\n  /* Arrow on the left of the label */\n  content: \"▸\";\n  float: left;\n  margin-right: 0.25em;\n  color: var(--sklearn-color-icon);\n}\n\n#sk-container-id-2 label.sk-toggleable__label-arrow:hover:before {\n  color: var(--sklearn-color-text);\n}\n\n/* Toggleable content - dropdown */\n\n#sk-container-id-2 div.sk-toggleable__content {\n  max-height: 0;\n  max-width: 0;\n  overflow: hidden;\n  text-align: left;\n  /* unfitted */\n  background-color: var(--sklearn-color-unfitted-level-0);\n}\n\n#sk-container-id-2 div.sk-toggleable__content.fitted {\n  /* fitted */\n  background-color: var(--sklearn-color-fitted-level-0);\n}\n\n#sk-container-id-2 div.sk-toggleable__content pre {\n  margin: 0.2em;\n  border-radius: 0.25em;\n  color: var(--sklearn-color-text);\n  /* unfitted */\n  background-color: var(--sklearn-color-unfitted-level-0);\n}\n\n#sk-container-id-2 div.sk-toggleable__content.fitted pre {\n  /* unfitted */\n  background-color: var(--sklearn-color-fitted-level-0);\n}\n\n#sk-container-id-2 input.sk-toggleable__control:checked~div.sk-toggleable__content {\n  /* Expand drop-down */\n  max-height: 200px;\n  max-width: 100%;\n  overflow: auto;\n}\n\n#sk-container-id-2 input.sk-toggleable__control:checked~label.sk-toggleable__label-arrow:before {\n  content: \"▾\";\n}\n\n/* Pipeline/ColumnTransformer-specific style */\n\n#sk-container-id-2 div.sk-label input.sk-toggleable__control:checked~label.sk-toggleable__label {\n  color: var(--sklearn-color-text);\n  background-color: var(--sklearn-color-unfitted-level-2);\n}\n\n#sk-container-id-2 div.sk-label.fitted input.sk-toggleable__control:checked~label.sk-toggleable__label {\n  background-color: var(--sklearn-color-fitted-level-2);\n}\n\n/* Estimator-specific style */\n\n/* Colorize estimator box */\n#sk-container-id-2 div.sk-estimator input.sk-toggleable__control:checked~label.sk-toggleable__label {\n  /* unfitted */\n  background-color: var(--sklearn-color-unfitted-level-2);\n}\n\n#sk-container-id-2 div.sk-estimator.fitted input.sk-toggleable__control:checked~label.sk-toggleable__label {\n  /* fitted */\n  background-color: var(--sklearn-color-fitted-level-2);\n}\n\n#sk-container-id-2 div.sk-label label.sk-toggleable__label,\n#sk-container-id-2 div.sk-label label {\n  /* The background is the default theme color */\n  color: var(--sklearn-color-text-on-default-background);\n}\n\n/* On hover, darken the color of the background */\n#sk-container-id-2 div.sk-label:hover label.sk-toggleable__label {\n  color: var(--sklearn-color-text);\n  background-color: var(--sklearn-color-unfitted-level-2);\n}\n\n/* Label box, darken color on hover, fitted */\n#sk-container-id-2 div.sk-label.fitted:hover label.sk-toggleable__label.fitted {\n  color: var(--sklearn-color-text);\n  background-color: var(--sklearn-color-fitted-level-2);\n}\n\n/* Estimator label */\n\n#sk-container-id-2 div.sk-label label {\n  font-family: monospace;\n  font-weight: bold;\n  display: inline-block;\n  line-height: 1.2em;\n}\n\n#sk-container-id-2 div.sk-label-container {\n  text-align: center;\n}\n\n/* Estimator-specific */\n#sk-container-id-2 div.sk-estimator {\n  font-family: monospace;\n  border: 1px dotted var(--sklearn-color-border-box);\n  border-radius: 0.25em;\n  box-sizing: border-box;\n  margin-bottom: 0.5em;\n  /* unfitted */\n  background-color: var(--sklearn-color-unfitted-level-0);\n}\n\n#sk-container-id-2 div.sk-estimator.fitted {\n  /* fitted */\n  background-color: var(--sklearn-color-fitted-level-0);\n}\n\n/* on hover */\n#sk-container-id-2 div.sk-estimator:hover {\n  /* unfitted */\n  background-color: var(--sklearn-color-unfitted-level-2);\n}\n\n#sk-container-id-2 div.sk-estimator.fitted:hover {\n  /* fitted */\n  background-color: var(--sklearn-color-fitted-level-2);\n}\n\n/* Specification for estimator info (e.g. \"i\" and \"?\") */\n\n/* Common style for \"i\" and \"?\" */\n\n.sk-estimator-doc-link,\na:link.sk-estimator-doc-link,\na:visited.sk-estimator-doc-link {\n  float: right;\n  font-size: smaller;\n  line-height: 1em;\n  font-family: monospace;\n  background-color: var(--sklearn-color-background);\n  border-radius: 1em;\n  height: 1em;\n  width: 1em;\n  text-decoration: none !important;\n  margin-left: 0.5em;\n  text-align: center;\n  /* unfitted */\n  border: var(--sklearn-color-unfitted-level-1) 1pt solid;\n  color: var(--sklearn-color-unfitted-level-1);\n}\n\n.sk-estimator-doc-link.fitted,\na:link.sk-estimator-doc-link.fitted,\na:visited.sk-estimator-doc-link.fitted {\n  /* fitted */\n  border: var(--sklearn-color-fitted-level-1) 1pt solid;\n  color: var(--sklearn-color-fitted-level-1);\n}\n\n/* On hover */\ndiv.sk-estimator:hover .sk-estimator-doc-link:hover,\n.sk-estimator-doc-link:hover,\ndiv.sk-label-container:hover .sk-estimator-doc-link:hover,\n.sk-estimator-doc-link:hover {\n  /* unfitted */\n  background-color: var(--sklearn-color-unfitted-level-3);\n  color: var(--sklearn-color-background);\n  text-decoration: none;\n}\n\ndiv.sk-estimator.fitted:hover .sk-estimator-doc-link.fitted:hover,\n.sk-estimator-doc-link.fitted:hover,\ndiv.sk-label-container:hover .sk-estimator-doc-link.fitted:hover,\n.sk-estimator-doc-link.fitted:hover {\n  /* fitted */\n  background-color: var(--sklearn-color-fitted-level-3);\n  color: var(--sklearn-color-background);\n  text-decoration: none;\n}\n\n/* Span, style for the box shown on hovering the info icon */\n.sk-estimator-doc-link span {\n  display: none;\n  z-index: 9999;\n  position: relative;\n  font-weight: normal;\n  right: .2ex;\n  padding: .5ex;\n  margin: .5ex;\n  width: min-content;\n  min-width: 20ex;\n  max-width: 50ex;\n  color: var(--sklearn-color-text);\n  box-shadow: 2pt 2pt 4pt #999;\n  /* unfitted */\n  background: var(--sklearn-color-unfitted-level-0);\n  border: .5pt solid var(--sklearn-color-unfitted-level-3);\n}\n\n.sk-estimator-doc-link.fitted span {\n  /* fitted */\n  background: var(--sklearn-color-fitted-level-0);\n  border: var(--sklearn-color-fitted-level-3);\n}\n\n.sk-estimator-doc-link:hover span {\n  display: block;\n}\n\n/* \"?\"-specific style due to the `<a>` HTML tag */\n\n#sk-container-id-2 a.estimator_doc_link {\n  float: right;\n  font-size: 1rem;\n  line-height: 1em;\n  font-family: monospace;\n  background-color: var(--sklearn-color-background);\n  border-radius: 1rem;\n  height: 1rem;\n  width: 1rem;\n  text-decoration: none;\n  /* unfitted */\n  color: var(--sklearn-color-unfitted-level-1);\n  border: var(--sklearn-color-unfitted-level-1) 1pt solid;\n}\n\n#sk-container-id-2 a.estimator_doc_link.fitted {\n  /* fitted */\n  border: var(--sklearn-color-fitted-level-1) 1pt solid;\n  color: var(--sklearn-color-fitted-level-1);\n}\n\n/* On hover */\n#sk-container-id-2 a.estimator_doc_link:hover {\n  /* unfitted */\n  background-color: var(--sklearn-color-unfitted-level-3);\n  color: var(--sklearn-color-background);\n  text-decoration: none;\n}\n\n#sk-container-id-2 a.estimator_doc_link.fitted:hover {\n  /* fitted */\n  background-color: var(--sklearn-color-fitted-level-3);\n}\n</style><div id=\"sk-container-id-2\" class=\"sk-top-container\"><div class=\"sk-text-repr-fallback\"><pre>SVC(C=1, coef0=0, gamma=0.05, probability=True)</pre><b>In a Jupyter environment, please rerun this cell to show the HTML representation or trust the notebook. <br />On GitHub, the HTML representation is unable to render, please try loading this page with nbviewer.org.</b></div><div class=\"sk-container\" hidden><div class=\"sk-item\"><div class=\"sk-estimator fitted sk-toggleable\"><input class=\"sk-toggleable__control sk-hidden--visually\" id=\"sk-estimator-id-4\" type=\"checkbox\" checked><label for=\"sk-estimator-id-4\" class=\"sk-toggleable__label fitted sk-toggleable__label-arrow\"><div><div>SVC</div></div><div><a class=\"sk-estimator-doc-link fitted\" rel=\"noreferrer\" target=\"_blank\" href=\"https://scikit-learn.org/1.6/modules/generated/sklearn.svm.SVC.html\">?<span>Documentation for SVC</span></a><span class=\"sk-estimator-doc-link fitted\">i<span>Fitted</span></span></div></label><div class=\"sk-toggleable__content fitted\"><pre>SVC(C=1, coef0=0, gamma=0.05, probability=True)</pre></div> </div></div></div></div>"
     },
     "execution_count": 14,
     "metadata": {},
     "output_type": "execute_result"
    }
   ],
   "source": [
    "model_final = model_grid.best_estimator_\n",
    "model_final"
   ],
   "metadata": {
    "collapsed": false,
    "ExecuteTime": {
     "end_time": "2025-03-05T04:24:00.755175Z",
     "start_time": "2025-03-05T04:24:00.750970Z"
    }
   },
   "id": "42952270589b6bae",
   "execution_count": 14
  },
  {
   "cell_type": "code",
   "outputs": [
    {
     "data": {
      "text/plain": "{'C': 1,\n 'break_ties': False,\n 'cache_size': 200,\n 'class_weight': None,\n 'coef0': 0,\n 'decision_function_shape': 'ovr',\n 'degree': 3,\n 'gamma': 0.05,\n 'kernel': 'rbf',\n 'max_iter': -1,\n 'probability': True,\n 'random_state': None,\n 'shrinking': True,\n 'tol': 0.001,\n 'verbose': False}"
     },
     "execution_count": 15,
     "metadata": {},
     "output_type": "execute_result"
    }
   ],
   "source": [
    "model_final.get_params()"
   ],
   "metadata": {
    "collapsed": false,
    "ExecuteTime": {
     "end_time": "2025-03-05T04:24:08.022570Z",
     "start_time": "2025-03-05T04:24:08.018543Z"
    }
   },
   "id": "bb54aacb6b2f9d95",
   "execution_count": 15
  },
  {
   "cell_type": "markdown",
   "source": [
    "## Model Evaluation"
   ],
   "metadata": {
    "collapsed": false
   },
   "id": "8416cf4381d2686c"
  },
  {
   "cell_type": "code",
   "outputs": [],
   "source": [
    "y_pred = model_final.predict(x_test)"
   ],
   "metadata": {
    "collapsed": false,
    "ExecuteTime": {
     "end_time": "2025-03-05T04:53:52.576894Z",
     "start_time": "2025-03-05T04:53:52.232658Z"
    }
   },
   "id": "2e850140ba1fc424",
   "execution_count": 16
  },
  {
   "cell_type": "code",
   "outputs": [
    {
     "data": {
      "text/plain": "array(['female', 'female', 'male', ..., 'female', 'male', 'male'],\n      shape=(1122,), dtype=object)"
     },
     "execution_count": 17,
     "metadata": {},
     "output_type": "execute_result"
    }
   ],
   "source": [
    "y_pred"
   ],
   "metadata": {
    "collapsed": false,
    "ExecuteTime": {
     "end_time": "2025-03-05T04:53:56.377320Z",
     "start_time": "2025-03-05T04:53:56.374791Z"
    }
   },
   "id": "d512889f9dd4b42a",
   "execution_count": 17
  },
  {
   "cell_type": "code",
   "outputs": [
    {
     "data": {
      "text/plain": "              precision    recall  f1-score      support\nfemale         0.815534  0.837209  0.826230   602.000000\nmale           0.805556  0.780769  0.792969   520.000000\naccuracy       0.811052  0.811052  0.811052     0.811052\nmacro avg      0.810545  0.808989  0.809599  1122.000000\nweighted avg   0.810909  0.811052  0.810815  1122.000000",
      "text/html": "<div>\n<style scoped>\n    .dataframe tbody tr th:only-of-type {\n        vertical-align: middle;\n    }\n\n    .dataframe tbody tr th {\n        vertical-align: top;\n    }\n\n    .dataframe thead th {\n        text-align: right;\n    }\n</style>\n<table border=\"1\" class=\"dataframe\">\n  <thead>\n    <tr style=\"text-align: right;\">\n      <th></th>\n      <th>precision</th>\n      <th>recall</th>\n      <th>f1-score</th>\n      <th>support</th>\n    </tr>\n  </thead>\n  <tbody>\n    <tr>\n      <th>female</th>\n      <td>0.815534</td>\n      <td>0.837209</td>\n      <td>0.826230</td>\n      <td>602.000000</td>\n    </tr>\n    <tr>\n      <th>male</th>\n      <td>0.805556</td>\n      <td>0.780769</td>\n      <td>0.792969</td>\n      <td>520.000000</td>\n    </tr>\n    <tr>\n      <th>accuracy</th>\n      <td>0.811052</td>\n      <td>0.811052</td>\n      <td>0.811052</td>\n      <td>0.811052</td>\n    </tr>\n    <tr>\n      <th>macro avg</th>\n      <td>0.810545</td>\n      <td>0.808989</td>\n      <td>0.809599</td>\n      <td>1122.000000</td>\n    </tr>\n    <tr>\n      <th>weighted avg</th>\n      <td>0.810909</td>\n      <td>0.811052</td>\n      <td>0.810815</td>\n      <td>1122.000000</td>\n    </tr>\n  </tbody>\n</table>\n</div>"
     },
     "execution_count": 18,
     "metadata": {},
     "output_type": "execute_result"
    }
   ],
   "source": [
    "## Classification report\n",
    "cr = metrics.classification_report(y_test, y_pred, output_dict=True)\n",
    "pd.DataFrame(cr).T"
   ],
   "metadata": {
    "collapsed": false,
    "ExecuteTime": {
     "end_time": "2025-03-05T04:55:01.900696Z",
     "start_time": "2025-03-05T04:55:01.880054Z"
    }
   },
   "id": "94500aacef8cb83c",
   "execution_count": 18
  },
  {
   "cell_type": "code",
   "outputs": [
    {
     "data": {
      "text/plain": "np.float64(0.6192762753534112)"
     },
     "execution_count": 19,
     "metadata": {},
     "output_type": "execute_result"
    }
   ],
   "source": [
    "## Kappa score\n",
    "kp = metrics.cohen_kappa_score(y_test, y_pred)\n",
    "kp"
   ],
   "metadata": {
    "collapsed": false,
    "ExecuteTime": {
     "end_time": "2025-03-05T04:56:40.982838Z",
     "start_time": "2025-03-05T04:56:40.977178Z"
    }
   },
   "id": "9b5b7e9008af87aa",
   "execution_count": 19
  },
  {
   "cell_type": "code",
   "outputs": [
    {
     "data": {
      "text/plain": "np.float64(0.8089892665474059)"
     },
     "execution_count": 21,
     "metadata": {},
     "output_type": "execute_result"
    }
   ],
   "source": [
    "## Area Under Curve\n",
    "auc = metrics.roc_auc_score(np.where(y_test==\"male\", 1, 0), \n",
    "                                                np.where(y_pred==\"male\", 1, 0))\n",
    "auc"
   ],
   "metadata": {
    "collapsed": false,
    "ExecuteTime": {
     "end_time": "2025-03-05T04:58:50.513770Z",
     "start_time": "2025-03-05T04:58:50.506100Z"
    }
   },
   "id": "36e4426cf826b080",
   "execution_count": 21
  },
  {
   "cell_type": "markdown",
   "source": [
    "### Save face recognition model"
   ],
   "metadata": {
    "collapsed": false
   },
   "id": "d12e2d140d40b62"
  },
  {
   "cell_type": "code",
   "outputs": [],
   "source": [
    "import pickle"
   ],
   "metadata": {
    "collapsed": false,
    "ExecuteTime": {
     "end_time": "2025-03-05T04:59:54.700741Z",
     "start_time": "2025-03-05T04:59:54.697595Z"
    }
   },
   "id": "e49193b941568adf",
   "execution_count": 22
  },
  {
   "cell_type": "code",
   "outputs": [],
   "source": [
    "pickle.dump(model_final, open('model/model_svm.pickle', mode = 'wb'))"
   ],
   "metadata": {
    "collapsed": false,
    "ExecuteTime": {
     "end_time": "2025-03-05T05:00:34.058296Z",
     "start_time": "2025-03-05T05:00:34.054418Z"
    }
   },
   "id": "173356db242f22bd",
   "execution_count": 23
  },
  {
   "cell_type": "code",
   "outputs": [],
   "source": [],
   "metadata": {
    "collapsed": false
   },
   "id": "fd487d3ea54b1177"
  }
 ],
 "metadata": {
  "kernelspec": {
   "name": "face_recognition",
   "language": "python",
   "display_name": "Python (face_recognition)"
  },
  "language_info": {
   "codemirror_mode": {
    "name": "ipython",
    "version": 2
   },
   "file_extension": ".py",
   "mimetype": "text/x-python",
   "name": "python",
   "nbconvert_exporter": "python",
   "pygments_lexer": "ipython2",
   "version": "2.7.6"
  }
 },
 "nbformat": 4,
 "nbformat_minor": 5
}
